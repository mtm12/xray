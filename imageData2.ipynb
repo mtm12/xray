{
 "cells": [
  {
   "cell_type": "code",
   "execution_count": 1,
   "metadata": {},
   "outputs": [],
   "source": [
    "from PIL import Image\n",
    "import os.path\n",
    "import numpy as np\n",
    "import itertools"
   ]
  },
  {
   "cell_type": "code",
   "execution_count": 4,
   "metadata": {},
   "outputs": [],
   "source": [
    "avgX = 250\n",
    "avgY = 250\n",
    "folder = ['PNEUMONIA','NORMAL']\n",
    "for foldername in folder:\n",
    "    filelist= [file for file in os.listdir('chest_xray/train/' + foldername + '/') if file.endswith('.jpeg')]\n",
    "    for filename in filelist:\n",
    "        img = Image.open('chest_xray/train/' + foldername + '/' + filename)\n",
    "        imgResize = img.resize((avgX, avgY), Image.LANCZOS)\n",
    "        imgResize.save('chest_xray/train/resized250x250/' + foldername + '/' + filename)\n",
    "        img.close()"
   ]
  },
  {
   "cell_type": "code",
   "execution_count": 6,
   "metadata": {},
   "outputs": [],
   "source": [
    "#convert all RGB files to grey scale. RGB is 3d and greyscale is 2d\n",
    "folder = ['PNEUMONIA','NORMAL']\n",
    "for foldername in folder:\n",
    "    filelist= [file for file in os.listdir('chest_xray/train/resized250x250/' + foldername + '/') if file.endswith('.jpeg')]\n",
    "    for filename in filelist:\n",
    "    #for filename in itertools.islice(filelist, 0, 50):\n",
    "        img = Image.open('chest_xray/train/resized250x250/' + foldername + '/' + filename)\n",
    "        imgData = list(img.getdata())\n",
    "        imgData = np.asarray(imgData)\n",
    "        #print(imgData.shape)\n",
    "        #print(imgData.ndim)\n",
    "        #x = imgData.reshape(150,150)\n",
    "        #The array is 1d before reshaping for grey scale images and 2d for RGB. We find all the RGB images and\n",
    "        #convert them to grey scale and save with prefix 'gs_'\n",
    "        if imgData.ndim == 2:\n",
    "            img_gs = Image.open('chest_xray/train/resized250x250/' + foldername + '/' + filename).convert('L')\n",
    "            img_gs.save('chest_xray/train/resized250x250/' + foldername + '/gs_'+ filename)\n",
    "            img_gsData = list(img_gs.getdata())\n",
    "            img_gsData = np.asarray(img_gsData)\n",
    "            #print(filename)\n",
    "            #print(img_gsData.ndim)"
   ]
  },
  {
   "cell_type": "code",
   "execution_count": 100,
   "metadata": {},
   "outputs": [],
   "source": [
    "X = []\n",
    "y = []\n",
    "folder = ['PNEUMONIA','NORMAL']\n",
    "\n",
    "for foldername in folder:\n",
    "    filelist= [file for file in os.listdir('chest_xray/train/resized250x250/' + foldername + '/') if file.endswith('.jpeg')]\n",
    "    for filename in filelist:\n",
    "    #for filename in itertools.islice(filelist, 0, 5):\n",
    "        #print(filename)\n",
    "        img = Image.open('chest_xray/train/resized250x250/' + foldername + '/' + filename)\n",
    "        #imgData = list(img.getdata())\n",
    "        #imgData = np.asarray(imgData)\n",
    "        #imgData = img.getdata()\n",
    "        #imgData = np.asarray(imgData)\n",
    "        imgData = np.asarray(img)\n",
    "        #print(imgData.shape)\n",
    "        #print(imgData.ndim)\n",
    "        if imgData.ndim == 2:\n",
    "            x = imgData.reshape(250,250)\n",
    "            X.append(x)\n",
    "            if foldername == 'NORMAL':\n",
    "                y.append(0)\n",
    "            else:\n",
    "                y.append(1)\n",
    "        img.close()"
   ]
  },
  {
   "cell_type": "code",
   "execution_count": 101,
   "metadata": {},
   "outputs": [
    {
     "name": "stdout",
     "output_type": "stream",
     "text": [
      "shape of x: (5216, 250, 250)\n",
      "length of x: 5216\n",
      "shape of y: (5216,)\n",
      "length of y: 5216\n",
      "value of y[0]: 1\n"
     ]
    }
   ],
   "source": [
    "X = np.asarray(X)\n",
    "y = np.asarray(y)\n",
    "print(\"shape of x: \" + str(X.shape))\n",
    "print(\"length of x: \" + str(len(X)))\n",
    "print(\"shape of y: \" + str(y.shape))\n",
    "print(\"length of y: \" + str(len(y)))\n",
    "print(\"value of y[0]: \" + str(y[0]))"
   ]
  },
  {
   "cell_type": "code",
   "execution_count": 102,
   "metadata": {},
   "outputs": [],
   "source": [
    "img = Image.fromarray(X[1], 'L')\n",
    "img.show()"
   ]
  },
  {
   "cell_type": "code",
   "execution_count": null,
   "metadata": {},
   "outputs": [],
   "source": []
  }
 ],
 "metadata": {
  "kernelspec": {
   "display_name": "Python 3",
   "language": "python",
   "name": "python3"
  },
  "language_info": {
   "codemirror_mode": {
    "name": "ipython",
    "version": 3
   },
   "file_extension": ".py",
   "mimetype": "text/x-python",
   "name": "python",
   "nbconvert_exporter": "python",
   "pygments_lexer": "ipython3",
   "version": "3.6.4"
  }
 },
 "nbformat": 4,
 "nbformat_minor": 2
}
