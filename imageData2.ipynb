{
 "cells": [
  {
   "cell_type": "code",
   "execution_count": 1,
   "metadata": {},
   "outputs": [],
   "source": [
    "from PIL import Image\n",
    "import os.path\n",
    "import numpy as np\n",
    "import itertools"
   ]
  },
  {
   "cell_type": "code",
   "execution_count": 116,
   "metadata": {},
   "outputs": [],
   "source": [
    "def resizeImg(action, x , y):\n",
    "    avgX = x\n",
    "    avgY = y\n",
    "    folder = ['PNEUMONIA','NORMAL']\n",
    "    for foldername in folder:\n",
    "        filelist= [file for file in os.listdir('chest_xray/' + action + '/' + foldername + '/') if file.endswith('.jpeg')]\n",
    "        for filename in filelist:\n",
    "            img = Image.open('chest_xray/' + action + '/' + foldername + '/' + filename)\n",
    "            imgResize = img.resize((avgX, avgY), Image.LANCZOS)\n",
    "            imgResize.save('chest_xray/' + action + '/resized250x250/' + foldername + '/' + filename)\n",
    "            img.close()"
   ]
  },
  {
   "cell_type": "code",
   "execution_count": 117,
   "metadata": {},
   "outputs": [],
   "source": [
    "resizeImg('test',250,250)"
   ]
  },
  {
   "cell_type": "code",
   "execution_count": null,
   "metadata": {},
   "outputs": [],
   "source": [
    "resizeImg('train',250,250)"
   ]
  },
  {
   "cell_type": "code",
   "execution_count": 6,
   "metadata": {},
   "outputs": [],
   "source": [
    "def convertImg(action):\n",
    "    #convert all RGB files to grey scale. RGB is 3d and greyscale is 2d\n",
    "    folder = ['PNEUMONIA','NORMAL']\n",
    "    for foldername in folder:\n",
    "        filelist= [file for file in os.listdir('chest_xray/' + action + '/resized250x250/' + foldername + '/') if file.endswith('.jpeg')]\n",
    "        for filename in filelist:\n",
    "        #for filename in itertools.islice(filelist, 0, 50):\n",
    "            img = Image.open('chest_xray/' + action + '/resized250x250/' + foldername + '/' + filename)\n",
    "            imgData = list(img.getdata())\n",
    "            imgData = np.asarray(imgData)\n",
    "            #print(imgData.shape)\n",
    "            #print(imgData.ndim)\n",
    "            #x = imgData.reshape(150,150)\n",
    "            #The array is 1d before reshaping for grey scale images and 2d for RGB. We find all the RGB images and\n",
    "            #convert them to grey scale and save with prefix 'gs_'\n",
    "            if imgData.ndim == 2:\n",
    "                img_gs = Image.open('chest_xray/' + action + '/resized250x250/' + foldername + '/' + filename).convert('L')\n",
    "                img_gs.save('chest_xray/' + action + '/resized250x250/' + foldername + '/gs_'+ filename)\n",
    "                img_gsData = list(img_gs.getdata())\n",
    "                img_gsData = np.asarray(img_gsData)\n",
    "                #print(filename)\n",
    "                #print(img_gsData.ndim)"
   ]
  },
  {
   "cell_type": "code",
   "execution_count": null,
   "metadata": {},
   "outputs": [],
   "source": [
    "convertImg('train')"
   ]
  },
  {
   "cell_type": "code",
   "execution_count": null,
   "metadata": {},
   "outputs": [],
   "source": [
    "convertImg('test')"
   ]
  },
  {
   "cell_type": "code",
   "execution_count": 107,
   "metadata": {},
   "outputs": [],
   "source": [
    "def process_image(action):\n",
    "    X = []\n",
    "    y = []\n",
    "    folder = ['PNEUMONIA','NORMAL']\n",
    "\n",
    "    for foldername in folder:\n",
    "        filelist= [file for file in os.listdir('chest_xray/' + action + '/resized250x250/' + foldername + '/') if file.endswith('.jpeg')]\n",
    "        for filename in filelist:\n",
    "        #for filename in itertools.islice(filelist, 0, 5):\n",
    "            #print(filename)\n",
    "            img = Image.open('chest_xray/' + action + '/resized250x250/' + foldername + '/' + filename)\n",
    "            #imgData = list(img.getdata())\n",
    "            #imgData = np.asarray(imgData)\n",
    "            #imgData = img.getdata()\n",
    "            #imgData = np.asarray(imgData)\n",
    "            imgData = np.asarray(img)\n",
    "            #print(imgData.shape)\n",
    "            #print(imgData.ndim)\n",
    "            if imgData.ndim == 2:\n",
    "                x = imgData.reshape(250,250)\n",
    "                X.append(x)\n",
    "                if foldername == 'NORMAL':\n",
    "                    y.append(0)\n",
    "                else:\n",
    "                    y.append(1)\n",
    "            img.close()\n",
    "    return X, y"
   ]
  },
  {
   "cell_type": "code",
   "execution_count": 108,
   "metadata": {},
   "outputs": [],
   "source": [
    "X_train, y_train = process_image('train')"
   ]
  },
  {
   "cell_type": "code",
   "execution_count": 109,
   "metadata": {},
   "outputs": [
    {
     "name": "stdout",
     "output_type": "stream",
     "text": [
      "shape of X_train: (5216, 250, 250)\n",
      "length of X_train: 5216\n",
      "shape of y_train: (5216,)\n",
      "length of y_train: 5216\n",
      "value of y_train[0]: 1\n"
     ]
    }
   ],
   "source": [
    "X_train = np.asarray(X_train)\n",
    "y_train = np.asarray(y_train)\n",
    "print(\"shape of X_train: \" + str(X_train.shape))\n",
    "print(\"length of X_train: \" + str(len(X_train)))\n",
    "print(\"shape of y_train: \" + str(y_train.shape))\n",
    "print(\"length of y_train: \" + str(len(y_train)))\n",
    "print(\"value of y_train[0]: \" + str(y_train[0]))"
   ]
  },
  {
   "cell_type": "code",
   "execution_count": 110,
   "metadata": {},
   "outputs": [],
   "source": [
    "img = Image.fromarray(X_train[1], 'L')\n",
    "img.show()"
   ]
  },
  {
   "cell_type": "code",
   "execution_count": 111,
   "metadata": {},
   "outputs": [
    {
     "data": {
      "text/plain": [
       "1"
      ]
     },
     "execution_count": 111,
     "metadata": {},
     "output_type": "execute_result"
    }
   ],
   "source": [
    "y_train[1]"
   ]
  },
  {
   "cell_type": "code",
   "execution_count": 121,
   "metadata": {},
   "outputs": [],
   "source": [
    "X_test, y_test = process_image('test')"
   ]
  },
  {
   "cell_type": "code",
   "execution_count": 122,
   "metadata": {},
   "outputs": [
    {
     "name": "stdout",
     "output_type": "stream",
     "text": [
      "shape of X_test: (624, 250, 250)\n",
      "length of X_test: 624\n",
      "shape of y_test: (624,)\n",
      "length of y_test: 624\n",
      "value of y_test[0]: 1\n"
     ]
    }
   ],
   "source": [
    "X_test = np.asarray(X_test)\n",
    "y_test = np.asarray(y_test)\n",
    "print(\"shape of X_test: \" + str(X_test.shape))\n",
    "print(\"length of X_test: \" + str(len(X_test)))\n",
    "print(\"shape of y_test: \" + str(y_test.shape))\n",
    "print(\"length of y_test: \" + str(len(y_test)))\n",
    "print(\"value of y_test[0]: \" + str(y_test[0]))"
   ]
  },
  {
   "cell_type": "code",
   "execution_count": null,
   "metadata": {},
   "outputs": [],
   "source": []
  }
 ],
 "metadata": {
  "kernelspec": {
   "display_name": "Python 3",
   "language": "python",
   "name": "python3"
  },
  "language_info": {
   "codemirror_mode": {
    "name": "ipython",
    "version": 3
   },
   "file_extension": ".py",
   "mimetype": "text/x-python",
   "name": "python",
   "nbconvert_exporter": "python",
   "pygments_lexer": "ipython3",
   "version": "3.6.4"
  }
 },
 "nbformat": 4,
 "nbformat_minor": 2
}
