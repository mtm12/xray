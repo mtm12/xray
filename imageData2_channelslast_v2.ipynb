{
 "cells": [
  {
   "cell_type": "code",
   "execution_count": 1,
   "metadata": {},
   "outputs": [
    {
     "name": "stderr",
     "output_type": "stream",
     "text": [
      "/anaconda3/lib/python3.6/site-packages/h5py/__init__.py:36: FutureWarning: Conversion of the second argument of issubdtype from `float` to `np.floating` is deprecated. In future, it will be treated as `np.float64 == np.dtype(float).type`.\n",
      "  from ._conv import register_converters as _register_converters\n",
      "Using TensorFlow backend.\n"
     ]
    }
   ],
   "source": [
    "from PIL import Image\n",
    "import os.path\n",
    "import numpy as np\n",
    "import itertools\n",
    "import keras.backend as K\n",
    "import keras"
   ]
  },
  {
   "cell_type": "code",
   "execution_count": 3,
   "metadata": {},
   "outputs": [],
   "source": [
    "def resizeImg(action, x , y):\n",
    "    avgX = x\n",
    "    avgY = y\n",
    "    folder = ['PNEUMONIA','NORMAL']\n",
    "    for foldername in folder:\n",
    "        filelist= [file for file in os.listdir('chest_xray/' + action + '/' + foldername + '/') if file.endswith('.jpeg')]\n",
    "        for filename in filelist:\n",
    "            img = Image.open('chest_xray/' + action + '/' + foldername + '/' + filename)\n",
    "            imgResize = img.resize((avgX, avgY), Image.LANCZOS)\n",
    "            imgResize.save('chest_xray/' + action + '/resized250x250/' + foldername + '/' + filename)\n",
    "            img.close()"
   ]
  },
  {
   "cell_type": "code",
   "execution_count": null,
   "metadata": {},
   "outputs": [],
   "source": [
    "resizeImg('test',250,250)"
   ]
  },
  {
   "cell_type": "code",
   "execution_count": null,
   "metadata": {},
   "outputs": [],
   "source": [
    "resizeImg('train',250,250)"
   ]
  },
  {
   "cell_type": "code",
   "execution_count": null,
   "metadata": {},
   "outputs": [],
   "source": [
    "def convertImg(action):\n",
    "    #convert all RGB files to grey scale. RGB is 3d and greyscale is 2d\n",
    "    folder = ['PNEUMONIA','NORMAL']\n",
    "    for foldername in folder:\n",
    "        filelist= [file for file in os.listdir('chest_xray/' + action + '/resized250x250/' + foldername + '/') if file.endswith('.jpeg')]\n",
    "        for filename in filelist:\n",
    "        #for filename in itertools.islice(filelist, 0, 50):\n",
    "            img = Image.open('chest_xray/' + action + '/resized250x250/' + foldername + '/' + filename)\n",
    "            imgData = list(img.getdata())\n",
    "            imgData = np.asarray(imgData)\n",
    "            #print(imgData.shape)\n",
    "            #print(imgData.ndim)\n",
    "            #x = imgData.reshape(150,150)\n",
    "            #The array is 1d before reshaping for grey scale images and 2d for RGB. We find all the RGB images and\n",
    "            #convert them to grey scale and save with prefix 'gs_'\n",
    "            if imgData.ndim == 2:\n",
    "                img_gs = Image.open('chest_xray/' + action + '/resized250x250/' + foldername + '/' + filename).convert('L')\n",
    "                img_gs.save('chest_xray/' + action + '/resized250x250/' + foldername + '/gs_'+ filename)\n",
    "                img_gsData = list(img_gs.getdata())\n",
    "                img_gsData = np.asarray(img_gsData)\n",
    "                #print(filename)\n",
    "                #print(img_gsData.ndim)"
   ]
  },
  {
   "cell_type": "code",
   "execution_count": null,
   "metadata": {},
   "outputs": [],
   "source": [
    "#convertImg('train')"
   ]
  },
  {
   "cell_type": "code",
   "execution_count": null,
   "metadata": {},
   "outputs": [],
   "source": [
    "#convertImg('test')"
   ]
  },
  {
   "cell_type": "code",
   "execution_count": 2,
   "metadata": {},
   "outputs": [],
   "source": [
    "def process_image(action):\n",
    "    X = []\n",
    "    y = []\n",
    "    folder = ['PNEUMONIA','NORMAL']\n",
    "\n",
    "    for foldername in folder:\n",
    "        filelist= [file for file in os.listdir('chest_xray/' + action + '/resized250x250/' + foldername + '/') if file.endswith('.jpeg')]\n",
    "        for filename in filelist:\n",
    "        #for filename in itertools.islice(filelist, 0, 5):\n",
    "            #print(filename)\n",
    "            img = Image.open('chest_xray/' + action + '/resized250x250/' + foldername + '/' + filename)\n",
    "            #imgData = list(img.getdata())\n",
    "            #imgData = np.asarray(imgData)\n",
    "            #imgData = img.getdata()\n",
    "            #imgData = np.asarray(imgData)\n",
    "            rgbimg = Image.new(\"RGB\", img.size)\n",
    "            rgbimg.paste(img)\n",
    "            imgData = np.asarray(rgbimg)\n",
    "            #imgData = np.asarray(img)\n",
    "            #print(imgData.shape)\n",
    "            #print(imgData.ndim)\n",
    "            if imgData.ndim == 3:\n",
    "                x = imgData.reshape(250,250,3)\n",
    "                X.append(x)\n",
    "                if foldername == 'NORMAL':\n",
    "                    y.append(0)\n",
    "                else:\n",
    "                    y.append(1)\n",
    "            img.close()\n",
    "    return X, y"
   ]
  },
  {
   "cell_type": "code",
   "execution_count": 3,
   "metadata": {},
   "outputs": [],
   "source": [
    "X_train, y_train = process_image('train')"
   ]
  },
  {
   "cell_type": "code",
   "execution_count": 4,
   "metadata": {},
   "outputs": [
    {
     "name": "stdout",
     "output_type": "stream",
     "text": [
      "shape of X_train: (7898, 250, 250, 3)\n",
      "length of X_train: 7898\n",
      "shape of y_train: (7898,)\n",
      "length of y_train: 7898\n",
      "value of y_train[0]: 1\n"
     ]
    }
   ],
   "source": [
    "X_train = np.asarray(X_train)\n",
    "y_train = np.asarray(y_train)\n",
    "print(\"shape of X_train: \" + str(X_train.shape))\n",
    "print(\"length of X_train: \" + str(len(X_train)))\n",
    "print(\"shape of y_train: \" + str(y_train.shape))\n",
    "print(\"length of y_train: \" + str(len(y_train)))\n",
    "print(\"value of y_train[0]: \" + str(y_train[0]))"
   ]
  },
  {
   "cell_type": "code",
   "execution_count": null,
   "metadata": {},
   "outputs": [],
   "source": [
    "img = Image.fromarray(X_train[1], 'RGB')\n",
    "img.show()"
   ]
  },
  {
   "cell_type": "code",
   "execution_count": null,
   "metadata": {},
   "outputs": [],
   "source": [
    "y_train[1]"
   ]
  },
  {
   "cell_type": "code",
   "execution_count": 5,
   "metadata": {},
   "outputs": [],
   "source": [
    "X_test, y_test = process_image('test')"
   ]
  },
  {
   "cell_type": "code",
   "execution_count": 6,
   "metadata": {},
   "outputs": [
    {
     "name": "stdout",
     "output_type": "stream",
     "text": [
      "shape of X_test: (624, 250, 250, 3)\n",
      "length of X_test: 624\n",
      "shape of y_test: (624,)\n",
      "length of y_test: 624\n",
      "value of y_test[0]: 1\n"
     ]
    }
   ],
   "source": [
    "X_test = np.asarray(X_test)\n",
    "y_test = np.asarray(y_test)\n",
    "print(\"shape of X_test: \" + str(X_test.shape))\n",
    "print(\"length of X_test: \" + str(len(X_test)))\n",
    "print(\"shape of y_test: \" + str(y_test.shape))\n",
    "print(\"length of y_test: \" + str(len(y_test)))\n",
    "print(\"value of y_test[0]: \" + str(y_test[0]))"
   ]
  },
  {
   "cell_type": "code",
   "execution_count": null,
   "metadata": {},
   "outputs": [],
   "source": [
    "img = Image.fromarray(X_test[1], 'RGB')\n",
    "img.show()"
   ]
  },
  {
   "cell_type": "code",
   "execution_count": null,
   "metadata": {},
   "outputs": [],
   "source": [
    "y_test[1]"
   ]
  },
  {
   "cell_type": "code",
   "execution_count": 7,
   "metadata": {},
   "outputs": [],
   "source": [
    "from keras.utils.np_utils import to_categorical\n",
    "\n",
    "y_train = to_categorical(y_train, 2)\n",
    "y_test = to_categorical(y_test, 2)"
   ]
  },
  {
   "cell_type": "code",
   "execution_count": 8,
   "metadata": {},
   "outputs": [
    {
     "name": "stderr",
     "output_type": "stream",
     "text": [
      "/home/ubuntu/anaconda3/lib/python3.6/site-packages/keras/callbacks.py:1065: UserWarning: `epsilon` argument is deprecated and will be removed, use `min_delta` instead.\n",
      "  warnings.warn('`epsilon` argument is deprecated and '\n"
     ]
    }
   ],
   "source": [
    "from keras.callbacks import ReduceLROnPlateau , ModelCheckpoint , LearningRateScheduler\n",
    "lr_reduce = ReduceLROnPlateau(monitor='val_acc', factor=0.1, epsilon=0.0001, patience=1, verbose=1)"
   ]
  },
  {
   "cell_type": "code",
   "execution_count": 9,
   "metadata": {},
   "outputs": [],
   "source": [
    "filepath=\"transferlearning_weights.hdf5\"\n",
    "checkpoint = ModelCheckpoint(filepath, monitor='val_acc', verbose=1, save_best_only=True, mode='max')"
   ]
  },
  {
   "cell_type": "code",
   "execution_count": 10,
   "metadata": {},
   "outputs": [],
   "source": [
    "from keras.models import Sequential , Model\n",
    "from keras.layers import Dense , Activation\n",
    "from keras.layers import Dropout , GlobalAveragePooling2D\n",
    "from keras.layers import Flatten\n",
    "from keras.constraints import maxnorm\n",
    "from keras.optimizers import SGD , RMSprop , Adadelta , Adam\n",
    "from keras.layers import Conv2D , BatchNormalization\n",
    "from keras.layers import MaxPooling2D\n",
    "from keras.utils import np_utils\n",
    "from keras import backend as K\n",
    "K.set_image_dim_ordering('th')\n",
    "from sklearn.model_selection import GridSearchCV\n",
    "from keras.wrappers.scikit_learn import KerasClassifier"
   ]
  },
  {
   "cell_type": "code",
   "execution_count": null,
   "metadata": {},
   "outputs": [],
   "source": [
    "#X_train=X_train.reshape(5499,3,250,250)\n",
    "#X_test=X_test.reshape(624,3,250,250)"
   ]
  },
  {
   "cell_type": "code",
   "execution_count": 11,
   "metadata": {},
   "outputs": [],
   "source": [
    "#use for channels last\n",
    "#X_train=X_train.reshape(5216,250,250,3)\n",
    "X_train=X_train.reshape(7898,250,250,3)\n",
    "X_test=X_test.reshape(624,250,250,3)\n",
    "K.set_image_data_format('channels_last')"
   ]
  },
  {
   "cell_type": "code",
   "execution_count": 12,
   "metadata": {},
   "outputs": [],
   "source": [
    "from keras.applications.inception_v3 import InceptionV3\n",
    "# create the base pre-trained model\n",
    "base_model = InceptionV3(weights=None, include_top=False , input_shape=(250, 250, 3))"
   ]
  },
  {
   "cell_type": "code",
   "execution_count": 13,
   "metadata": {},
   "outputs": [],
   "source": [
    "x = base_model.output\n",
    "x = Dropout(0.5)(x)\n",
    "x = GlobalAveragePooling2D()(x)\n",
    "x = Dense(128, activation='relu')(x)\n",
    "#x = Dropout(0.5)(x)#new\n",
    "#x = Dense(128, activation='relu')(x)#new\n",
    "#x = Dropout(0.5)(x)#new\n",
    "x = BatchNormalization()(x)\n",
    "#x = BatchNormalization(axis=3)(x)#use for channels last\n",
    "predictions = Dense(2, activation='sigmoid')(x)"
   ]
  },
  {
   "cell_type": "code",
   "execution_count": 14,
   "metadata": {},
   "outputs": [],
   "source": [
    "model = Model(inputs=base_model.input, outputs=predictions)"
   ]
  },
  {
   "cell_type": "code",
   "execution_count": 15,
   "metadata": {},
   "outputs": [],
   "source": [
    "model.compile(loss='categorical_crossentropy', \n",
    "                  optimizer='Adam', \n",
    "                  metrics=['accuracy'])"
   ]
  },
  {
   "cell_type": "code",
   "execution_count": null,
   "metadata": {},
   "outputs": [],
   "source": [
    "print(model.summary())"
   ]
  },
  {
   "cell_type": "code",
   "execution_count": 16,
   "metadata": {},
   "outputs": [],
   "source": [
    "batch_size = 64\n",
    "epochs = 10"
   ]
  },
  {
   "cell_type": "code",
   "execution_count": 17,
   "metadata": {},
   "outputs": [
    {
     "name": "stdout",
     "output_type": "stream",
     "text": [
      "Train on 7898 samples, validate on 624 samples\n",
      "Epoch 1/10\n",
      "7898/7898 [==============================] - 156s 20ms/step - loss: 0.2175 - acc: 0.9125 - val_loss: 0.4986 - val_acc: 0.8237\n",
      "\n",
      "Epoch 00001: val_acc improved from -inf to 0.82372, saving model to transferlearning_weights.hdf5\n",
      "Epoch 2/10\n",
      "7898/7898 [==============================] - 133s 17ms/step - loss: 0.1073 - acc: 0.9581 - val_loss: 0.4246 - val_acc: 0.8638\n",
      "\n",
      "Epoch 00002: val_acc improved from 0.82372 to 0.86378, saving model to transferlearning_weights.hdf5\n",
      "Epoch 3/10\n",
      "7898/7898 [==============================] - 133s 17ms/step - loss: 0.0738 - acc: 0.9709 - val_loss: 1.0940 - val_acc: 0.7324\n",
      "\n",
      "Epoch 00003: ReduceLROnPlateau reducing learning rate to 0.00010000000474974513.\n",
      "\n",
      "Epoch 00003: val_acc did not improve from 0.86378\n",
      "Epoch 4/10\n",
      "7898/7898 [==============================] - 133s 17ms/step - loss: 0.0336 - acc: 0.9886 - val_loss: 0.9640 - val_acc: 0.7837\n",
      "\n",
      "Epoch 00004: ReduceLROnPlateau reducing learning rate to 1.0000000474974514e-05.\n",
      "\n",
      "Epoch 00004: val_acc did not improve from 0.86378\n",
      "Epoch 5/10\n",
      "7898/7898 [==============================] - 133s 17ms/step - loss: 0.0210 - acc: 0.9932 - val_loss: 0.8957 - val_acc: 0.7981\n",
      "\n",
      "Epoch 00005: ReduceLROnPlateau reducing learning rate to 1.0000000656873453e-06.\n",
      "\n",
      "Epoch 00005: val_acc did not improve from 0.86378\n",
      "Epoch 6/10\n",
      "7898/7898 [==============================] - 133s 17ms/step - loss: 0.0222 - acc: 0.9932 - val_loss: 0.9437 - val_acc: 0.7933\n",
      "\n",
      "Epoch 00006: ReduceLROnPlateau reducing learning rate to 1.0000001111620805e-07.\n",
      "\n",
      "Epoch 00006: val_acc did not improve from 0.86378\n",
      "Epoch 7/10\n",
      "7898/7898 [==============================] - 133s 17ms/step - loss: 0.0210 - acc: 0.9942 - val_loss: 0.9349 - val_acc: 0.7981\n",
      "\n",
      "Epoch 00007: ReduceLROnPlateau reducing learning rate to 1.000000082740371e-08.\n",
      "\n",
      "Epoch 00007: val_acc did not improve from 0.86378\n",
      "Epoch 8/10\n",
      "7898/7898 [==============================] - 133s 17ms/step - loss: 0.0203 - acc: 0.9940 - val_loss: 0.9097 - val_acc: 0.7981\n",
      "\n",
      "Epoch 00008: ReduceLROnPlateau reducing learning rate to 1.000000082740371e-09.\n",
      "\n",
      "Epoch 00008: val_acc did not improve from 0.86378\n",
      "Epoch 9/10\n",
      "7898/7898 [==============================] - 133s 17ms/step - loss: 0.0196 - acc: 0.9942 - val_loss: 0.9329 - val_acc: 0.7981\n",
      "\n",
      "Epoch 00009: ReduceLROnPlateau reducing learning rate to 1.000000082740371e-10.\n",
      "\n",
      "Epoch 00009: val_acc did not improve from 0.86378\n",
      "Epoch 10/10\n",
      "7898/7898 [==============================] - 133s 17ms/step - loss: 0.0205 - acc: 0.9938 - val_loss: 0.9216 - val_acc: 0.7981\n",
      "\n",
      "Epoch 00010: ReduceLROnPlateau reducing learning rate to 1.000000082740371e-11.\n",
      "\n",
      "Epoch 00010: val_acc did not improve from 0.86378\n"
     ]
    }
   ],
   "source": [
    "history = model.fit(X_train, y_train, validation_data = (X_test , y_test),callbacks=[lr_reduce,checkpoint] ,\n",
    "          epochs=epochs)"
   ]
  },
  {
   "cell_type": "code",
   "execution_count": null,
   "metadata": {},
   "outputs": [],
   "source": [
    "model.save('xray_gpu_1.h5')"
   ]
  },
  {
   "cell_type": "code",
   "execution_count": null,
   "metadata": {},
   "outputs": [],
   "source": [
    "import pickle\n",
    "with open('trainHistory3.pickle', 'wb') as file_history:\n",
    "    pickle.dump(history.history, file_history)"
   ]
  },
  {
   "cell_type": "code",
   "execution_count": null,
   "metadata": {},
   "outputs": [],
   "source": [
    "from keras.models import load_model\n",
    "model = load_model('xray_gpu_1.h5')"
   ]
  },
  {
   "cell_type": "code",
   "execution_count": null,
   "metadata": {},
   "outputs": [],
   "source": [
    "model.load_weights(\"transferlearning_weights.hdf5\")"
   ]
  },
  {
   "cell_type": "code",
   "execution_count": null,
   "metadata": {},
   "outputs": [],
   "source": [
    "with open(r\"trainHistory.pickle\", \"rb\") as input_file:\n",
    "    history = Pickle.load(input_file)"
   ]
  },
  {
   "cell_type": "code",
   "execution_count": 18,
   "metadata": {},
   "outputs": [
    {
     "data": {
      "text/plain": [
       "<Figure size 640x480 with 1 Axes>"
      ]
     },
     "metadata": {},
     "output_type": "display_data"
    },
    {
     "data": {
      "text/plain": [
       "<Figure size 640x480 with 1 Axes>"
      ]
     },
     "metadata": {},
     "output_type": "display_data"
    }
   ],
   "source": [
    "import matplotlib.pyplot as plt\n",
    "\n",
    "plt.plot(history.history['acc'])\n",
    "plt.plot(history.history['val_acc'])\n",
    "plt.title('model accuracy')\n",
    "plt.ylabel('accuracy')\n",
    "plt.xlabel('epoch')\n",
    "plt.legend(['train', 'test'], loc='upper left')\n",
    "plt.show()\n",
    "# summarize history for loss\n",
    "plt.plot(history.history['loss'])\n",
    "plt.plot(history.history['val_loss'])\n",
    "plt.title('model loss')\n",
    "plt.ylabel('loss')\n",
    "plt.xlabel('epoch')\n",
    "plt.legend(['train', 'test'], loc='upper left')\n",
    "plt.show()"
   ]
  },
  {
   "cell_type": "code",
   "execution_count": 19,
   "metadata": {},
   "outputs": [],
   "source": [
    "from sklearn.metrics import confusion_matrix\n",
    "pred = model.predict(X_test)\n",
    "pred = np.argmax(pred,axis = 1) \n",
    "y_true = np.argmax(y_test,axis = 1)"
   ]
  },
  {
   "cell_type": "code",
   "execution_count": 20,
   "metadata": {},
   "outputs": [
    {
     "data": {
      "image/png": "[encoded data removed]",
      "text/plain": [
       "<Figure size 360x360 with 1 Axes>"
      ]
     },
     "metadata": {},
     "output_type": "display_data"
    }
   ],
   "source": [
    "CM = confusion_matrix(y_true, pred)\n",
    "from mlxtend.plotting import plot_confusion_matrix\n",
    "fig, ax = plot_confusion_matrix(conf_mat=CM, figsize=(5, 5))\n",
    "plt.show()"
   ]
  },
  {
   "cell_type": "code",
   "execution_count": 21,
   "metadata": {},
   "outputs": [
    {
     "name": "stdout",
     "output_type": "stream",
     "text": [
      "0.7598425196850394\n"
     ]
    }
   ],
   "source": [
    "precision = 386 / (386 + 122)\n",
    "print(precision)"
   ]
  },
  {
   "cell_type": "code",
   "execution_count": 22,
   "metadata": {},
   "outputs": [
    {
     "name": "stdout",
     "output_type": "stream",
     "text": [
      "0.9897435897435898\n"
     ]
    }
   ],
   "source": [
    "recall = 386 / (386 + 4)\n",
    "print(recall)"
   ]
  },
  {
   "cell_type": "code",
   "execution_count": 23,
   "metadata": {},
   "outputs": [
    {
     "name": "stdout",
     "output_type": "stream",
     "text": [
      "0.8596881959910913\n"
     ]
    }
   ],
   "source": [
    "f1 = (2*recall*precision) / (recall + precision)\n",
    "print(f1)"
   ]
  },
  {
   "cell_type": "code",
   "execution_count": 4,
   "metadata": {},
   "outputs": [],
   "source": [
    "resizeImg('val',250,250)"
   ]
  },
  {
   "cell_type": "code",
   "execution_count": 8,
   "metadata": {},
   "outputs": [],
   "source": [
    "def process_val_images():\n",
    "    X1 = []\n",
    "    X2 = []\n",
    "    folder = ['PNEUMONIA','NORMAL']\n",
    "\n",
    "    for foldername in folder:\n",
    "        filelist= [file for file in os.listdir('chest_xray/val/resized250x250/' + foldername + '/') if file.endswith('.jpeg')]\n",
    "        for filename in filelist:\n",
    "        #for filename in itertools.islice(filelist, 0, 5):\n",
    "            img = Image.open('chest_xray/val/resized250x250/' + foldername + '/' + filename)\n",
    "            rgbimg = Image.new(\"RGB\", img.size)\n",
    "            rgbimg.paste(img)\n",
    "            imgData = np.asarray(rgbimg)\n",
    "            #imgData = np.asarray(img)\n",
    "            #print(imgData.shape)\n",
    "            #print(imgData.ndim)\n",
    "\n",
    "            if foldername == 'NORMAL':\n",
    "                x = imgData.reshape(250,250,3)\n",
    "                X1.append(x)\n",
    "            else:\n",
    "                x = imgData.reshape(250,250,3)\n",
    "                X2.append(x)\n",
    "            img.close()\n",
    "    return X1, X2"
   ]
  },
  {
   "cell_type": "code",
   "execution_count": 18,
   "metadata": {},
   "outputs": [],
   "source": [
    "x_val_normal, x_val_pneumonia = process_val_images()"
   ]
  },
  {
   "cell_type": "code",
   "execution_count": 19,
   "metadata": {},
   "outputs": [
    {
     "name": "stdout",
     "output_type": "stream",
     "text": [
      "shape of x_val_normal: (8, 250, 250, 3)\n",
      "shape of x_val_pneumonia: (8, 250, 250, 3)\n"
     ]
    }
   ],
   "source": [
    "x_val_normal = np.asarray(x_val_normal)\n",
    "x_val_pneumonia = np.asarray(x_val_pneumonia)\n",
    "print(\"shape of x_val_normal: \" + str(x_val_normal.shape))\n",
    "print(\"shape of x_val_pneumonia: \" + str(x_val_pneumonia.shape))"
   ]
  },
  {
   "cell_type": "code",
   "execution_count": 13,
   "metadata": {},
   "outputs": [],
   "source": [
    "from keras.models import load_model\n",
    "model2 = load_model('tf_weights.hdf5')"
   ]
  },
  {
   "cell_type": "code",
   "execution_count": 20,
   "metadata": {},
   "outputs": [],
   "source": [
    "predictions = model2.predict(x_val_pneumonia)"
   ]
  },
  {
   "cell_type": "code",
   "execution_count": 21,
   "metadata": {},
   "outputs": [
    {
     "data": {
      "text/plain": [
       "array([[0.04352661, 0.82740194],\n",
       "       [0.00422364, 0.99665207],\n",
       "       [0.22452231, 0.9321221 ],\n",
       "       [0.03887643, 0.9765554 ],\n",
       "       [0.00368949, 0.9966054 ],\n",
       "       [0.01252646, 0.99159545],\n",
       "       [0.5508139 , 0.23459099],\n",
       "       [0.09453902, 0.9006476 ]], dtype=float32)"
      ]
     },
     "execution_count": 21,
     "metadata": {},
     "output_type": "execute_result"
    }
   ],
   "source": [
    "predictions"
   ]
  },
  {
   "cell_type": "code",
   "execution_count": 29,
   "metadata": {},
   "outputs": [],
   "source": [
    "one_test = x_val_pneumonia[0]\n",
    "one_test = np.expand_dims(one_test, axis=0)"
   ]
  },
  {
   "cell_type": "code",
   "execution_count": 30,
   "metadata": {},
   "outputs": [],
   "source": [
    "prediction = model2.predict(one_test)"
   ]
  },
  {
   "cell_type": "code",
   "execution_count": 31,
   "metadata": {},
   "outputs": [
    {
     "data": {
      "text/plain": [
       "array([[0.04352662, 0.82740194]], dtype=float32)"
      ]
     },
     "execution_count": 31,
     "metadata": {},
     "output_type": "execute_result"
    }
   ],
   "source": [
    "prediction"
   ]
  },
  {
   "cell_type": "code",
   "execution_count": 43,
   "metadata": {},
   "outputs": [],
   "source": [
    "import base64\n",
    "b64data = base64.encodebytes(open(\"chest_xray/val/resized250x250/NORMAL/NORMAL2-IM-1427-0001.jpeg\",\"rb\").read())"
   ]
  },
  {
   "cell_type": "code",
   "execution_count": 44,
   "metadata": {},
   "outputs": [
    {
     "data": {
      "text/plain": [
       "b'/9j/4AAQSkZJRgABAQAAAQABAAD/2wBDAAgGBgcGBQgHBwcJCQgKDBQNDAsLDBkSEw8UHRofHh0a\\nHBwgJC4nICIsIxwcKDcpLDAxNDQ0Hyc5PTgyPC4zNDL/wAALCAD6APoBAREA/8QAHwAAAQUBAQEB\\nAQEAAAAAAAAAAAECAwQFBgcICQoL/8QAtRAAAgEDAwIEAwUFBAQAAAF9AQIDAAQRBRIhMUEGE1Fh\\nByJxFDKBkaEII0KxwRVS0fAkM2JyggkKFhcYGRolJicoKSo0NTY3ODk6Q0RFRkdISUpTVFVWV1hZ\\nWmNkZWZnaGlqc3R1dnd4eXqDhIWGh4iJipKTlJWWl5iZmqKjpKWmp6ipqrKztLW2t7i5usLDxMXG\\nx8jJytLT1NXW19jZ2uHi4+Tl5ufo6erx8vP09fb3+Pn6/9oACAEBAAA/APFIbtpphIwwemMk/wA6\\n67SbncUyetdZbyZUc1OSW6fjXQwv5+nwydTt2n6jipIGKOD0qhf2WJvNiHyk5Kjt70xIQydKpXtu\\nyYkj4ZeRXO688d7axP0YAxsO6sORWz4VuJ50WQIxVMAt2zXp9o4nt1fADAYIq2mAPanqfwFSAjtT\\nSQTyaCATnqfWhyoALHpWdcy739h0FZ9wSRzXMa65itpSD0XIrwrXL83d+drZCcZHrVawtTd3SKec\\nnJPt3r0fRtJCReay/M/Nba2YUdKQxkNgDk8YFb2k2QtFNzKP3mMKP7v/ANepCSzljzmq+ry+RYJC\\nPvSnJ+g/+vWGXwvWsy9lwpGawGn+Y896462fD8cCul0qfaw56HNdvZyZUe9aiD5c1s6Sd9lIno/H\\n4j/61Wgu3r+FTFFcehHNRywKuNg+ZuSO1VZbNphtHJPpWJdeEhJKXachSQWRR94Dtn1rrNOtrWO1\\nSO3jVYlGAoratP3LjH3cc1ohQwyOhpyrTtuCDUZ+8MA08kKMkVVm3FufyqnJ96qk5AUk9q5HXwmo\\nRNajcImGHdDg49q8ouvBk8t/Iuny+bbr1dxgg+nvW54f8E3SOZXlj2k7RkHkd67iPTJIFABU47VI\\nIuQGGKuxaekRwgyx/iNWZEAQIpBAqJIsyYrC1aX7RfSbeUT5F+grNkO0YNYt/Jwa5xrldx+Xv61z\\nKHbJW3YSlWU13OlS70SukUfKBjqK19IGI5eO4rTERLZxmpliDcEc1IkIBz2qY2SuMoQCfyNVJrYq\\ncMCDUKBrd9yD8PWtSznWUY6H0q8jsv3TxUyz+o5p/ng9RUb3RUkKhNM84vyQajklJGM8VQnlWMkk\\n5+lZlzK8wIPC+lYdxG7zqi9xg1NDpsEMexUwOpx3NXbeyZyBHGTgdB0FXhpnGZWA9hUctpGRsRKQ\\nQEDJJPamvGRyBzTCBGjSf3VLfpXKEHJJ6mqd58qE1zGpzbY2rmS/J+ZfzrICPjdtOPXFaNnJjFd3\\n4fk3KtddCNwra0rAXHvk1uou5RgGl8vacHA/Gn8BeTUsTc8EfSrShJB5cqBh71WutLVI2eNiQOqm\\ns9Uw2VyD2IqzFespCyr+Iq5FNG/erJKEDBqvIuWzvH40xHAB3NnnpUdxKhGVyv4VmS8ljnOarsOO\\nKrtABLvx83etey0xXRZpwTu+6n9TWg6rENigADsBgVTlZTwWH0zUORk4NJsIHT6Gl8kHkiqV9Htg\\nfHdT/KuWdeM1m333GritYmxkfjXNF+TXr2m6v4wsPA3gO18LpcSx3QuBcQpbCSOQ/aWAD5U4GCe4\\n4rgfGK6dB481uPSRGLFbxxEI/uAZ5C47ZzjHatPw3NiUKTXeWpyOta9g21yM4J6VuxSZGeaVhhga\\nl6qBTooyzjPSrO8x4DDK9vUVeWZZYg454wwrPksvnLR8p6dxUDwD05FNWNlGMGpwsgTIOarzSsvX\\nv6g0638yTPA65PFPaM55waheEHOSPwqMWwxnvUltp5MnmTjCjt61pSTCCEyEAt0QVnb5J3wTj1xT\\nJovLbA5BqFOpoLupyD+HrU/mZXJUZ744rMv5CImx6VzsgwprH1EgRt9K871abfM31rF81hxkfkK9\\nNXxtdeGvB/gVbG9822WK7F/p6zfLMhnYFZFB4JQnBPTqK4zxLpVlo+uldMu0utMuUW5s5A4LeU3R\\nXA6OvKkHuM96u6HNsmBr0fTpRJECK1FYqQR1HetyyuPNUDGWrQMZKKcc1OsQ2jPWnRrtI9qfLyox\\n1p1sChz2PUVaPA45qrJhjyB9RTQhB4PFPH3Og96rTxqzDIOfapYV2AgCklc52qOag8uZmyDgZ64q\\n3Aqr1wT6mp2QEbj0HeqE+ZXyeAOAKbAMMw70Sgs5NQmHjPSodmZAPzpZSACcgYrDv59x8tTx3NZU\\n33TXO61KEtmyea85v3y7H1rN/d9y2fpTSCpIIwRwRSxnDiuh0t8OK7/Q7jjYT9K6RTkCtzSgsQDt\\n/F1roAgMbAAkjmox609e5pyjcwqdsRxse4/SqRv41baSSDSrcRl+4qwMMuQQR7UxQSpGcH3qvJLt\\nfDIx+lWYAzIWIx7U5U5JxyfWoppUQYJJ+lRLcoOduAPep4bxZX2ngHpT5oQ3zL1qv5eDkdaTHHpT\\nWpI4hhn69qz9SXyoCV+91Fc4QSSWOTVO6cKh5xXE69d7kcZ68CuHvHyTVYW8zAEROQeQdtR0qnDC\\nt3Szk12ukuQVNdbbyblBro7EfuVGO1b1s5+z5/iXH5UsigSFfxpdpOABTyywLuYj61UkuS7YJ+X0\\nrLuflk+XJB7VPbl3X7pz0+tW0Zo8nkCrSMzIOaGUls7RUyA4qF2ZmIBqtJFnqTx6VTmKklBuAHep\\n7ZfLBYHJPbvVyO5UfKxwP5VM6Z5H6VBjnHY0hjJ4qRwohx0C9TWJesZFdj6HArnZGwKwdXudkRAP\\nJrhdVkJHWuZumy9V6DyaK3NJOWrtdL6CupszwBXW2a42/hWxC23k9+MVORuHHJHSnkrDHuasu6lM\\np/kKrKWGA/boBTJ7hAMFgPYcmmQXUaSEgOea2I2SeMEHPHIqxEOMYwKGYq2AhPoaljB2ZI5pjALl\\nm4xWLe3rYxHxWf50obmRuatw3ZAAcfiKsM+8jac+hFX7WUgCOQ/Q+lTyRgHOKanBJ79BUVycRbB0\\nzk1i3QO0j1rm7j5VPNcvqmWzk1xuqdW5rm5jmQ0gcAfcWmHr1zRW7owy9dxpi4rpbQdBXZWqfMKv\\ng9vSrltg5J/CoLwNI2VPAHSs4sqA5/Emqc1zhsL0xy1ZzOxPygls5471NEJAhypGea1dPlIB4I9q\\n14GLL1qT5i2M8VIPu5qrPkq47AVgtFucs7HJ7AVG6Rk45U560qxkHKnI/WpIZmRicd+hrSjkWVQQ\\nf/rVowkvEAeo4/Co5DsP8qrlgcisy5HzVyV8xyw965jUicda4zU2PPPeufc5c0BVx98D8DTaK3tE\\n/wBZXd6cOhrp9NTfcRKema6616Zq1H81WQxjXIpktwgHXryBWTct5z5zj0xVb7KQRvOQew60yV0t\\nyQxCD0HJpsVxEmTuYH/aU1pWU0MjnYwJxnFbFqd3GKmAIb7ufepAp289arygbHz6GuSk1B/NYIqg\\nA4+YVA95K5XDHIPPSpoL44IlxndjI4Iq3uWVN+7PoRVm1jkRweg9fWtuFhtAH/6qhuCSxqqzYaqd\\nz9+uOvuJHHua5nUvun2ritWODgVgnqaTFBOTk0Vv6F/rhXe2Axtrq9HXNxu/uqa6eHiHPrV21Quf\\n50y+uRHlF5I/SssMZ8gk5XkNTGmESn07setVzqSsCEbH+0aosskzPIvzNg8DnIqXypHtMkNnAyCa\\nlslkSRSoYECuqsC5UlquKTmpOtQMpJI7VyOo2SwXkobdg8jFIkMSxEBSSe+ec1XjsssdjgbuzCrM\\nG63lyQQOgHatmCdZFz+Yp5uGjIK8g/yq4SssAdaozcVVujkKa5LVE2XUg9TmuW1Po35VxOsH95is\\nE9acJHAwHb86aevHSit/Qj++H0rv7EZVCK7DRk/dyN9BXRKuFVa0oQIrbd/EayJoGZickr+pqrLL\\nHbgZ69gKzrmVp5MBeg4Xt+NNEESjMrZI/hXoP8aYL2G2PLjjsvP6Crn2u3Kja/ysM4KnmtHS2hlb\\nK8gnityIBWwKs4I6DNOUHvxTcYJzXPeIkcIlxGgYpw2fQ1lLK6WyMWG7ncuBiq8d+VkLsoO5uMcY\\nFaCTxSJ+7wQecGmBXSTzVYkDn6VoW9ytxnIw/cdjWhZkq5QfdYcfWortNrkdu1UpxmD6VzOsricH\\n+8grkNQHLVw2sn98aw6cCmOVbP8Avf8A1qQjBI449DSVv6CB5w+lej6cuYxXZaQn+jL/ALTVtJy/\\n0qy7kKFP3aqXN0ijapBf+VZclv57l3Y/h1ps5jijCu2PRe5+tYl3N574SQoucYA6/jUNvazEHbEc\\nA4ye9baWiraIiYdiOpPQ4q/YRzQ4Qphc8Ctu1dzIM9RWkM4pB1pjDmq08O/g9CMGuavLRY2ljYtt\\nxgfSq13ZKlnFsYKV/vd6zV84Abn2leQw6H8a1LW7G1UmI39sdDU5jKsHjGCOcD+lbenyb1Bb7/cf\\n1p96vzA+grOcZjYVzmtj/Vn/AGSK43UOFY1wWsH9+1Y1SCBiAd0fPrIv+NR0VuaC2J157V6TpbZV\\nRmu601NlvFx/DurVtlLuB+Jo1K5EIMaffx19KxUgffv5z1xnr9ajn1ERnYmGYdXHT8KzGd7sdcKT\\n9896m8lLdDjl/wC8RnFRSXsLLxK7OnUKM/rWhYXENzCSd+5eeRitzTpEmRj3zjmtSKMLICKu846U\\nAEnJpnQ1DI65xWNqxICskYLDrz2rlZ79mZjJFJ1x8h3d/SpIpI5lzEC2ByCMfmKnSxDAOpIA6p3/\\nAArUs5EGIyTkdGbr+NXtxt38xe3UVelxNbiRehGazHGGI9q5/WlzCh9CRXFanwjV55q7Zmesqign\\nJzRWxof/AB8CvT9Cj8woo716BAoCcdMYFaliANxPoKr3Vv5sxkI5znH9ax7uYuTDEDjue7f/AFqz\\nprf5VyoZvQdB9aoz6glqCo/eP0IXoKqm8e9ASUED0U9BV+HyLaFI4j5rMMuw9K2rW0gjhLIMA889\\nc1p6dGUiJC8Mc1rxE5UdxVsEmnc9qZJmqbqSxpk8KvHgjnvXC6na3FnqDAD90fmUnpjvVO2lBmZt\\n7Anow7VrW106tsuAFcHh+zVckJkzsHz+/Q1Zspy/7uQ/P0BPf2rZs+YGTsDx+NUZ1wT7Viasm60c\\n46EGuB1c4RvpXnOqNmd/rWdTg5Axhf8AvkU09eOlFa2in/SBXrnhhMgN6Cu3hHyD61owKQhYf/rq\\nrNdLMTFGc+vv/wDWqnOEVCThQOC/9BXP3l08mYl3Rx+o5J+tVBp3mp++G0A/eHcU9LS0twRkSN/t\\nnOBWrpPkyXIgRcKBk4HArQuiCxijZOeOWGa2rCIR26oSCauKuHWrQzjpThnPSmsMmoHXng1CxG05\\nYZrK1OATxFSoOOQfQ1ykkXnOVQbJkPKjrVKeO7i/4+DuHQHoPxrQ0vUQu2KdsqeNx/h/+tW00e5g\\nycOOcDvW7YPvh5+9/Fj1qrcj5247msm9TfC6eoIrzfXPlDA9a821E5nb61SpwCY5Zs/7v/16aRg4\\nPWitTRji5WvZ/C6f6Kprr4fuirt65htAifeY7f8AGsSV1to2kY4A6kdSfQVQ+0y30uJBhRwCPur7\\nVN9nUkbcH3br/wDWqncXNraggNvkPVVPFZzanufZDAu88ZFa9g8dlBukUCR8liTzUsKebc+aB8qn\\nsO9dLaOCAPStKP7wq0OlLTJPWqzfeqGTFU7iDehIbHoa53U7SaMmdNu9Rjd0JrOilS8jCuwDgEe9\\nQPaNHzEmT3X1/wA+lbejTFQsUx9kPp7V0CSiCRT2JwRTrtcNn14NZF2PlNea+KBslk9DzXmN8czt\\n9aq04RuRkI2PpTaKv6U2LtPrXuHh393bRg/3RXXQlflOeKuX20wZY4AGc1yk7PeS7mVljU4VabPP\\nDaxfvPl4+WNep+lZMuqTzvsYGOMj7q/1PemmISERwhyerHH9avWGmrDN5rsgCjJA6/jVqGzkusZb\\n9zuJ+Yd63rC2jghC4yTyT61rwxICCAAfariDDCpvwpQc9qa+TUJHJzUbRBqrSxE8cYrMuoTtYFc/\\nWuR1TTDDKLy33I4+8F7+9XdNu0vBskCrOB6cNVq4UKpkHDjsO/8A9eremXv2yMhz868HPcVuXHMC\\nn2BrIuvun6V5p4wG1yfavLLs5mb61BRQevTFFXdL5v4h/tCvcdDOYE/AV1loA7qD06mp7uQTSfZy\\negDN/SsfUpFtI9yAGUj5EPT6muWZbq4mZ2Us5PJJxj8av29vsTdM4cY6Afyq8eIQFCxqRnB61BPP\\nFFhSTk9qQapI8bpAFCA4BIzn1rd0ueWa2jJYE4wRgVtwO2QM1oRtvwasUUj8c1Ukc7jzTUkPoOKa\\n5B7EVXkUMCM1mXVqHRlxg4rirtns7xg+4MDwAOCK0LG+a4KwXDjf/A+evsf8a0Eja2uUnjHG7DqK\\n6eYj7IOeOB+FZF0yhSc15p40OYmevKZzmUmo6cGXH3FP4mkIwSMg47ikq/pA/wBOU+nNe06Ax+zx\\n/nXZ6dyrH6L+ZqvqFwtvJLMxwFJJ9/QVhxTjU3aSTPXkf0HtVhljVDuVVRepJwBWXcXjKcR5WPPL\\nkcn6DtWfJeM0jOXJCdBmlsw0twJ5MtznGM54rQtI57hsCLaq8c8V0OgxsIGhyAUJHXNdBFHgADtV\\n2H5WAzVsEZpeKa/SqjJyaaVK+9NYY+b86rTKQ2VPWqcs5XhufcVy2twK0iykCSNuCKxpLdrXZLuz\\nGRyT/Wuo0S5+3QfvOXj4b/aHY10K5Nj5Z6rkflyKxrsjYTXnPjVh9il9q8pc5c02pREpAPnRjPY5\\n/wAKiorQ0j/j6z9K9l0E4t0+grtdIOVb2INYmu7ri/Fov3VO+Q/WqszQ2cKlnCAdAByayhqRv51U\\nrtjU8J2A9ajuHa7nUKOOuPT0zQLWIy4bLAHJHQVpo0IVSxCKOijgVYivoY3XYwCgEY6mr2larENQ\\nMO1hnp8uM108E+9+Bx61fQZcEVapwpriqzMM00lcf/WpjEHPSoZApXBqhdQYTK847Vx+vytbIJY5\\nP4huQ9GqOzEV9a7o2O3PzIw5HtWhZAadOh6Qnj8O+a6a3bdEc9mA/DFYd8+EavNfGMm6Jl/vV5k3\\n3j9aSignJyaK0NJ/4+R9RXsWiNiFPpXb6SQsTsehP8hms+7VRFJeOPm+82OuO1cPqF41zM7MTnHr\\n0HpVvTdJvbrYYkMaHneeCa6W08NQxgeczSH8h+VaUVhbxf6u3Qfh1qOXSYbg5eFDx/dqJfDlpuz5\\nIGPTIp6aDDE5kG8Nnj5ulbttEI1AUcVpQHkZqwCB1NOBz3pJPu1TOeuKa3aoJDg5qJpSBg1GZFYH\\nJrlvEdpHLGIzkFnGD2P1rnreSXTJycEHHQ8jH+FbksqX1p+6OA3X2PpXRaNIZ9LV2+9wp+q1i378\\nN9TXmvi1uB9TXnLfeP1pKcJHAwGOPrTTjPHSir+lnFwPrXr2htm3Q+1dxZkrp3v5bH8zisPVtQGR\\nAnVcFlH97sKdpfhpJHW8uk+c/MsfYe5HrXTR26xjpipQhIHb0p4hH41IkBPapltxjmnmJAc4FKoX\\nOARU6JhxUrKKkUDFNkHy1WJHqKaWX2qvIqt7Gqc4KZqlM+FJU1zWq6jHLcQ28x45O70NULpYpVMB\\nJGV+WQc4pmjyNa3Zs5eN449M9vzFd1paeTbuvQEhz+Nc/qB2bweoJFebeLT8v415633z9aSnDy8c\\nhs/WmkYOKKt6e224H1r1vw6+63X2rvomWLR3lb7qxA/kc1zvh/T3vb57+fJBYkA9/eu3jVUGcfSn\\nBSxyetSrGSelTrEB1FSAAUHPamFOaFTGKswjn6VKRmlApJv9WTWcetQyIxbIppjnJ7H8aRrWV16q\\nTWbe2d1HEzIm44PAPWvMNSac3c32iKSI7uAykZ9qsadqB2CCYBkPIbuta32T7UySLlXhOSR1I64r\\nr7KcXFm0q/xx5/LrWJrHFxIOxOa8w8XNgge9cE33j9aSnCNiM8f99Cm0VPattmFeqeGpv3Sc8ECv\\nRvJafREtx/y1G0/Q8/4VdtLZLS3VMAbRzVhMscnvVqNc1aVQBThTgtOC0bPQUmw+lSRjmpDkUozT\\nZBlTn0qp5WaBFzzTttNIxUM+GXZ3NZN7psN1GUljVx3BFcZqng8hjNYNtI6xt0/D0pNJlZFazlUp\\nJF03dSO+fpW/oMuZ7i3Jwoyyf7p4P61T1gYnfPXaP5V5R4vcefj0riD1oooJyc0U+I4kFekeF5t0\\nUYzXr9nz5af3Rn8sCrsi7nAHQdfrUsSHOKtouBTxzUiingU8D1pcgUmRnoaevXinGgUN0qsT83Ap\\nwNBUHmoytUbiVUY55NV0u45DtYEH3FMnMa8g5z1rndd05ZlW5tsCZDkEd/Y+xpdEO67EgBGU2nPv\\n/wDXFQ66225lJ6YB/SvHfFUu64auTop4kIGNq/lTTgE4OR2NJSqcMDXe+EpMtGv+0K9stCFVXPoa\\nuxnjnqauRDC1KDnipFFSKtSDgUZoxQRTozg0/wDGjj1pGPy4zUO3miikYjaazLiFjJkdDVOVcfLj\\nmpAoeDBHNY18JYJBtyUP8NSWkAhlR1HDOCfp2rF8Sthd31B/OvF/Eku+6fnvisCiiiiiu28IHNzH\\n9M17fEwNjE394D9ef6VoWw3Ee1Xs4wKkSpkFS5xS9aWloxTlFOK89aTbz1pWXioyOKTFIRUcnA4q\\nu7CqM6fOT696ahK8CoLhBO3HTFNUhUAx1GB/OuR8YyeTEfq1eJaxJvuD7nNZlFFFFFd74RKB4wDz\\nXslpzp8A9FX+Va1qMR59asIcnNWIxmpwcU4U4U7rTgAOtGRT15J5pSMmkAxSsPlJqLeKDg9KaeBU\\nLPng1WlyMkc4qsX3jAqPJxUUJAcqep5qCQ4uolB4DVxnjo5ib2UH868U1M5ucVSoooPXpiiiuw8I\\nvieH2Ne4WT/6JF9F/lWuDtRVFTx9atp8op4NSCnil3CgnNIOtPU4NSbh60m9R3qOSTjoeahHXrT1\\nBB9qc5BWqUx29OagEhz6mq5G2Q4HBqQJwW9ahkQJ83cVWkQfakcelcL44b5JvoBXi2onN21VaKKc\\n/Dt9TTaU/wBK6rwtxNBj1/qa9v07/j2t/on9a2T/AK9R/s1ai++tWj1X60/+H8R/Opf4G+lJKTjr\\n2psBJRMnsKlQ/JQvf6mnxnlvw/lTXJ3kZ9KjyfOUZ/hP8xUr9F/GmD7w+oqRvufiP51G5xv+lU5v\\n4qrJ90fQUh6Cpk5h59TVebo/+e1U2PK/8BrgPG/+qevG77/j6aq1FFf/2Q==\\n'"
      ]
     },
     "execution_count": 44,
     "metadata": {},
     "output_type": "execute_result"
    }
   ],
   "source": [
    "b64data"
   ]
  },
  {
   "cell_type": "code",
   "execution_count": 45,
   "metadata": {},
   "outputs": [
    {
     "data": {
      "image/png": "[encoded data removed]",
      "text/plain": [
       "<PIL.JpegImagePlugin.JpegImageFile image mode=L size=250x250 at 0x1135ACAC8>"
      ]
     },
     "execution_count": 45,
     "metadata": {},
     "output_type": "execute_result"
    }
   ],
   "source": [
    "import io\n",
    "#im = Image.open(io.BytesIO(base64.b64decode(data.split(',')[1])))\n",
    "im = Image.open(io.BytesIO(base64.b64decode(b64data)))\n",
    "im"
   ]
  },
  {
   "cell_type": "code",
   "execution_count": 52,
   "metadata": {},
   "outputs": [],
   "source": [
    "rgbimg = Image.new(\"RGB\", im.size)\n",
    "rgbimg.paste(im)\n",
    "imgData = np.asarray(rgbimg)"
   ]
  },
  {
   "cell_type": "code",
   "execution_count": 57,
   "metadata": {},
   "outputs": [
    {
     "data": {
      "text/plain": [
       "(250, 250, 3)"
      ]
     },
     "execution_count": 57,
     "metadata": {},
     "output_type": "execute_result"
    }
   ],
   "source": [
    "img_data = np.asarray(imgData)\n",
    "img_data = img_data.reshape(250,250,3)\n",
    "img_data.shape"
   ]
  },
  {
   "cell_type": "code",
   "execution_count": 59,
   "metadata": {},
   "outputs": [],
   "source": [
    "img_data = np.expand_dims(img_data, axis=0)\n",
    "prediction = model2.predict(img_data)"
   ]
  },
  {
   "cell_type": "code",
   "execution_count": 60,
   "metadata": {},
   "outputs": [
    {
     "data": {
      "text/plain": [
       "array([[0.9725528 , 0.01398777]], dtype=float32)"
      ]
     },
     "execution_count": 60,
     "metadata": {},
     "output_type": "execute_result"
    }
   ],
   "source": [
    "prediction"
   ]
  },
  {
   "cell_type": "code",
   "execution_count": null,
   "metadata": {},
   "outputs": [],
   "source": []
  }
 ],
 "metadata": {
  "kernelspec": {
   "display_name": "Python 3",
   "language": "python",
   "name": "python3"
  },
  "language_info": {
   "codemirror_mode": {
    "name": "ipython",
    "version": 3
   },
   "file_extension": ".py",
   "mimetype": "text/x-python",
   "name": "python",
   "nbconvert_exporter": "python",
   "pygments_lexer": "ipython3",
   "version": "3.6.4"
  }
 },
 "nbformat": 4,
 "nbformat_minor": 2
}
