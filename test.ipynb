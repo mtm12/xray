{
 "cells": [
  {
   "cell_type": "code",
   "execution_count": 104,
   "metadata": {},
   "outputs": [],
   "source": [
    "from PIL import Image\n",
    "import os.path\n",
    "import itertools"
   ]
  },
  {
   "cell_type": "code",
   "execution_count": 18,
   "metadata": {},
   "outputs": [
    {
     "data": {
      "text/plain": [
       "array([[[1, 2],\n",
       "        [3, 4]],\n",
       "\n",
       "       [[5, 6],\n",
       "        [7, 8]],\n",
       "\n",
       "       [[5, 6],\n",
       "        [7, 8]]])"
      ]
     },
     "execution_count": 18,
     "metadata": {},
     "output_type": "execute_result"
    }
   ],
   "source": [
    "x = np.array([[[1,2],[3,4]],[[5,6],[7,8]]])\n",
    "y = np.repeat(x, [1, 2], axis=0)\n",
    "y"
   ]
  },
  {
   "cell_type": "code",
   "execution_count": 19,
   "metadata": {},
   "outputs": [
    {
     "data": {
      "text/plain": [
       "(2, 2, 2)"
      ]
     },
     "execution_count": 19,
     "metadata": {},
     "output_type": "execute_result"
    }
   ],
   "source": [
    "x.shape"
   ]
  },
  {
   "cell_type": "code",
   "execution_count": 20,
   "metadata": {},
   "outputs": [
    {
     "data": {
      "text/plain": [
       "(3, 2, 2)"
      ]
     },
     "execution_count": 20,
     "metadata": {},
     "output_type": "execute_result"
    }
   ],
   "source": [
    "y.shape"
   ]
  },
  {
   "cell_type": "code",
   "execution_count": 121,
   "metadata": {},
   "outputs": [],
   "source": [
    "def process_image(action):\n",
    "    X = []\n",
    "    y = []\n",
    "    folder = ['PNEUMONIA','NORMAL']\n",
    "\n",
    "    for foldername in folder:\n",
    "        filelist= [file for file in os.listdir('chest_xray/' + action + '/resized250x250/' + foldername + '/') if file.endswith('.jpeg')]\n",
    "        #for filename in filelist:\n",
    "        for filename in itertools.islice(filelist, 0, 5):\n",
    "            print(filename)\n",
    "            img = Image.open('chest_xray/' + action + '/resized250x250/' + foldername + '/' + filename)\n",
    "            #imgData = list(img.getdata())\n",
    "            #imgData = np.asarray(imgData)\n",
    "            #imgData = img.getdata()\n",
    "            #imgData = np.asarray(imgData)\n",
    "            rgbimg = Image.new(\"RGB\", img.size)\n",
    "            rgbimg.paste(img)\n",
    "            imgData = np.asarray(rgbimg)\n",
    "            print(imgData.shape)\n",
    "            print(imgData.ndim)\n",
    "            if imgData.ndim == 3:\n",
    "                x = imgData.reshape(250,250,3)\n",
    "                X.append(x)\n",
    "                if foldername == 'NORMAL':\n",
    "                    y.append(0)\n",
    "                else:\n",
    "                    y.append(1)\n",
    "            img.close()\n",
    "    return X, y"
   ]
  },
  {
   "cell_type": "code",
   "execution_count": 122,
   "metadata": {},
   "outputs": [
    {
     "name": "stdout",
     "output_type": "stream",
     "text": [
      "person63_bacteria_306.jpeg\n",
      "(250, 250, 3)\n",
      "3\n",
      "person1438_bacteria_3721.jpeg\n",
      "(250, 250, 3)\n",
      "3\n",
      "person755_bacteria_2659.jpeg\n",
      "(250, 250, 3)\n",
      "3\n",
      "person478_virus_975.jpeg\n",
      "(250, 250, 3)\n",
      "3\n",
      "person661_bacteria_2553.jpeg\n",
      "(250, 250, 3)\n",
      "3\n",
      "NORMAL2-IM-0927-0001.jpeg\n",
      "(250, 250, 3)\n",
      "3\n",
      "NORMAL2-IM-1056-0001.jpeg\n",
      "(250, 250, 3)\n",
      "3\n",
      "IM-0427-0001.jpeg\n",
      "(250, 250, 3)\n",
      "3\n",
      "NORMAL2-IM-1260-0001.jpeg\n",
      "(250, 250, 3)\n",
      "3\n",
      "IM-0656-0001-0001.jpeg\n",
      "(250, 250, 3)\n",
      "3\n"
     ]
    }
   ],
   "source": [
    "X_train, y_train = process_image('train')"
   ]
  },
  {
   "cell_type": "code",
   "execution_count": 117,
   "metadata": {},
   "outputs": [],
   "source": [
    "X_train = np.asarray(X_train)"
   ]
  },
  {
   "cell_type": "code",
   "execution_count": 118,
   "metadata": {},
   "outputs": [
    {
     "data": {
      "text/plain": [
       "(10, 250, 250, 3)"
      ]
     },
     "execution_count": 118,
     "metadata": {},
     "output_type": "execute_result"
    }
   ],
   "source": [
    "X_train.shape"
   ]
  },
  {
   "cell_type": "code",
   "execution_count": 120,
   "metadata": {},
   "outputs": [],
   "source": [
    "img = Image.fromarray(X_train[0], 'RGB')\n",
    "img.show()"
   ]
  },
  {
   "cell_type": "code",
   "execution_count": 91,
   "metadata": {},
   "outputs": [],
   "source": [
    "im = Image.open('chest_xray/train/resized250x250/NORMAL/IM-0115-0001.jpeg')\n",
    "rgbimg = Image.new(\"RGB\", im.size)\n",
    "rgbimg.paste(im)\n",
    "rgbimg.save('test.jpeg')"
   ]
  },
  {
   "cell_type": "code",
   "execution_count": 93,
   "metadata": {},
   "outputs": [
    {
     "data": {
      "text/plain": [
       "(250, 250, 3)"
      ]
     },
     "execution_count": 93,
     "metadata": {},
     "output_type": "execute_result"
    }
   ],
   "source": [
    "imgData = np.asarray(rgbimg)\n",
    "imgData.shape"
   ]
  },
  {
   "cell_type": "code",
   "execution_count": null,
   "metadata": {},
   "outputs": [],
   "source": []
  }
 ],
 "metadata": {
  "kernelspec": {
   "display_name": "Python 3",
   "language": "python",
   "name": "python3"
  },
  "language_info": {
   "codemirror_mode": {
    "name": "ipython",
    "version": 3
   },
   "file_extension": ".py",
   "mimetype": "text/x-python",
   "name": "python",
   "nbconvert_exporter": "python",
   "pygments_lexer": "ipython3",
   "version": "3.6.4"
  }
 },
 "nbformat": 4,
 "nbformat_minor": 2
}
